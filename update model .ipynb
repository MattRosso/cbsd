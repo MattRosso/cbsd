{
 "cells": [
  {
   "cell_type": "markdown",
   "metadata": {},
   "source": [
    "## Load Packages"
   ]
  },
  {
   "cell_type": "code",
   "execution_count": 1,
   "metadata": {},
   "outputs": [],
   "source": [
    "import pandas as pd\n",
    "import numpy as np\n",
    "from sklearn.preprocessing import StandardScaler\n",
    "from sklearn.linear_model import LogisticRegression"
   ]
  },
  {
   "cell_type": "markdown",
   "metadata": {},
   "source": [
    "# Load Data"
   ]
  },
  {
   "cell_type": "code",
   "execution_count": 2,
   "metadata": {},
   "outputs": [],
   "source": [
    "train = pd.read_csv('train_dataset.csv')\n",
    "test = pd.read_csv('test_dataset.csv')"
   ]
  },
  {
   "cell_type": "markdown",
   "metadata": {},
   "source": [
    "## Pre-Process data"
   ]
  },
  {
   "cell_type": "code",
   "execution_count": 3,
   "metadata": {},
   "outputs": [],
   "source": [
    "train[\"Condition\"] = train.CONDITION.map({\"H\":0, \"D\":1})\n",
    "\n",
    "test[\"Condition\"] = test.CONDITION.map({\"H\":0, \"D\":1})\n",
    "train.drop(\"CONDITION\", axis = 1,inplace = True)\n",
    "test.drop(\"CONDITION\", axis=1, inplace = True)"
   ]
  },
  {
   "cell_type": "code",
   "execution_count": 4,
   "metadata": {},
   "outputs": [],
   "source": [
    "X_train = train.iloc[:,0:12]\n",
    "y_train = train.iloc[:,12]\n",
    "X_test= test.iloc[:,0:12]\n",
    "y_test = test.iloc[:,12]"
   ]
  },
  {
   "cell_type": "code",
   "execution_count": null,
   "metadata": {},
   "outputs": [],
   "source": []
  },
  {
   "cell_type": "code",
   "execution_count": 7,
   "metadata": {},
   "outputs": [],
   "source": [
    "scaler = StandardScaler().fit(X_train)"
   ]
  },
  {
   "cell_type": "code",
   "execution_count": 8,
   "metadata": {},
   "outputs": [
    {
     "name": "stdout",
     "output_type": "stream",
     "text": [
      "[-3.20786788e-17  6.41573576e-17 -6.41573576e-17  1.28314715e-16\n",
      "  8.01966970e-17  8.01966970e-17 -1.28314715e-16 -1.60393394e-16\n",
      " -1.28314715e-16 -1.60393394e-16  0.00000000e+00 -1.44354055e-16]\n"
     ]
    }
   ],
   "source": [
    "X_train_scaled = scaler.transform(X_train)\n",
    "print(X_train_scaled.mean(axis=0))"
   ]
  },
  {
   "cell_type": "code",
   "execution_count": 9,
   "metadata": {},
   "outputs": [],
   "source": [
    "scaler = StandardScaler().fit(X_test)"
   ]
  },
  {
   "cell_type": "code",
   "execution_count": 10,
   "metadata": {},
   "outputs": [],
   "source": [
    "X_test_scaled = scaler.transform(X_test)"
   ]
  },
  {
   "cell_type": "markdown",
   "metadata": {},
   "source": [
    "## Logistic Regression "
   ]
  },
  {
   "cell_type": "code",
   "execution_count": null,
   "metadata": {},
   "outputs": [],
   "source": [
    "model_logreg = LogisticRegression() \n",
    "model_logreg.fit(X_train,y_train)\n"
   ]
  },
  {
   "cell_type": "code",
   "execution_count": null,
   "metadata": {},
   "outputs": [],
   "source": [
    "y_pred = model_logreg.predict(X_test)"
   ]
  },
  {
   "cell_type": "code",
   "execution_count": null,
   "metadata": {},
   "outputs": [],
   "source": [
    "print('Accuracy of logistic regression classifier on test set: {:.2f}'.format(model_logreg.score(X_test, y_test)))"
   ]
  },
  {
   "cell_type": "markdown",
   "metadata": {},
   "source": [
    "## SVM "
   ]
  },
  {
   "cell_type": "code",
   "execution_count": 37,
   "metadata": {},
   "outputs": [
    {
     "name": "stdout",
     "output_type": "stream",
     "text": [
      "RESULTS FOR LINEAR KERNEL\n",
      "\n",
      "{'mean_fit_time': array([0.01265635, 0.04628639, 0.3438652 ]), 'std_fit_time': array([0.00228965, 0.00566234, 0.03685078]), 'mean_score_time': array([0.00111084, 0.00074863, 0.00082507]), 'std_score_time': array([1.87829746e-04, 8.56762397e-05, 7.65084589e-05]), 'param_C': masked_array(data=[1, 10, 100],\n",
      "             mask=[False, False, False],\n",
      "       fill_value='?',\n",
      "            dtype=object), 'params': [{'C': 1}, {'C': 10}, {'C': 100}], 'split0_test_score': array([0.74157303, 0.74719101, 0.74719101]), 'split1_test_score': array([0.76271186, 0.75706215, 0.75706215]), 'split2_test_score': array([0.72881356, 0.72881356, 0.72881356]), 'split3_test_score': array([0.72316384, 0.72316384, 0.72316384]), 'split4_test_score': array([0.82485876, 0.82485876, 0.82485876]), 'mean_test_score': array([0.75622421, 0.75621786, 0.75621786]), 'std_test_score': array([0.03691011, 0.03643442, 0.03643442]), 'rank_test_score': array([1, 2, 2], dtype=int32)}\n",
      "Best parameters set found:\n",
      "{'C': 1}\n",
      "Score with best parameters:\n",
      "0.756224211261347\n",
      "\n",
      "All scores on the grid:\n",
      "[0.75622421 0.75621786 0.75621786]\n",
      "\n",
      "RESULTS FOR POLY DEGREE=2 KERNEL\n",
      "\n",
      "{'mean_fit_time': array([5.25412560e-03, 5.86318970e-03, 2.31612825e-01, 5.34133911e-03,\n",
      "       1.43798351e-02, 2.41608372e+00, 5.88016510e-03, 1.81443310e-01,\n",
      "       2.23515798e+01]), 'std_fit_time': array([7.26017419e-05, 3.49501015e-04, 8.95556890e-02, 1.52300430e-04,\n",
      "       1.28330141e-03, 1.09324202e+00, 3.60282910e-04, 4.83115212e-02,\n",
      "       6.03107697e+00]), 'mean_score_time': array([0.00118475, 0.00092931, 0.00091672, 0.00112658, 0.0008038 ,\n",
      "       0.00105414, 0.00092001, 0.00078454, 0.00106959]), 'std_score_time': array([2.04692591e-05, 2.43160770e-05, 9.94249498e-05, 7.21018149e-06,\n",
      "       1.68314736e-05, 2.80656646e-05, 1.23383861e-05, 3.26034596e-05,\n",
      "       3.77206223e-05]), 'param_C': masked_array(data=[1, 1, 1, 10, 10, 10, 100, 100, 100],\n",
      "             mask=[False, False, False, False, False, False, False, False,\n",
      "                   False],\n",
      "       fill_value='?',\n",
      "            dtype=object), 'param_gamma': masked_array(data=[0.01, 0.1, 1.0, 0.01, 0.1, 1.0, 0.01, 0.1, 1.0],\n",
      "             mask=[False, False, False, False, False, False, False, False,\n",
      "                   False],\n",
      "       fill_value='?',\n",
      "            dtype=object), 'params': [{'C': 1, 'gamma': 0.01}, {'C': 1, 'gamma': 0.1}, {'C': 1, 'gamma': 1.0}, {'C': 10, 'gamma': 0.01}, {'C': 10, 'gamma': 0.1}, {'C': 10, 'gamma': 1.0}, {'C': 100, 'gamma': 0.01}, {'C': 100, 'gamma': 0.1}, {'C': 100, 'gamma': 1.0}], 'split0_test_score': array([0.55617978, 0.64606742, 0.66292135, 0.60674157, 0.66292135,\n",
      "       0.66292135, 0.64606742, 0.66292135, 0.66292135]), 'split1_test_score': array([0.51977401, 0.71186441, 0.69491525, 0.62146893, 0.6440678 ,\n",
      "       0.68926554, 0.71186441, 0.69491525, 0.68926554]), 'split2_test_score': array([0.53107345, 0.72316384, 0.72881356, 0.6779661 , 0.72316384,\n",
      "       0.72881356, 0.72316384, 0.72881356, 0.72881356]), 'split3_test_score': array([0.49717514, 0.66101695, 0.72881356, 0.62146893, 0.70056497,\n",
      "       0.74011299, 0.66101695, 0.72881356, 0.74011299]), 'split4_test_score': array([0.57627119, 0.75706215, 0.74576271, 0.66101695, 0.75706215,\n",
      "       0.75141243, 0.75706215, 0.74576271, 0.75706215]), 'mean_test_score': array([0.53609471, 0.69983495, 0.71224529, 0.6377325 , 0.69755602,\n",
      "       0.71450517, 0.69983495, 0.71224529, 0.71563512]), 'std_test_score': array([0.02765455, 0.04089421, 0.02968371, 0.02701982, 0.04066041,\n",
      "       0.0332282 , 0.04089421, 0.02968371, 0.03453443]), 'rank_test_score': array([9, 5, 3, 8, 7, 2, 5, 3, 1], dtype=int32)}\n",
      "Best parameters set found:\n",
      "{'C': 100, 'gamma': 1.0}\n",
      "Score with best parameters:\n",
      "0.7156351171205484\n",
      "\n",
      "All scores on the grid:\n",
      "[0.53609471 0.69983495 0.71224529 0.6377325  0.69755602 0.71450517\n",
      " 0.69983495 0.71224529 0.71563512]\n",
      "\n",
      "RESULTS FOR rbf KERNEL\n",
      "\n",
      "{'mean_fit_time': array([0.00594883, 0.00620265, 0.01090465, 0.00641055, 0.00947418,\n",
      "       0.01218157, 0.0120245 , 0.01895909, 0.01214981]), 'std_fit_time': array([0.00015809, 0.00018801, 0.00011655, 0.0001408 , 0.00059789,\n",
      "       0.00031227, 0.00052507, 0.00183669, 0.00030315]), 'mean_score_time': array([0.00116782, 0.00113049, 0.00165701, 0.00102458, 0.00110607,\n",
      "       0.00164485, 0.0009675 , 0.00099874, 0.00164576]), 'std_score_time': array([2.31687908e-05, 3.29916872e-05, 1.99839717e-05, 2.46615642e-05,\n",
      "       5.56721217e-05, 1.86509782e-05, 2.75011465e-05, 2.63850852e-05,\n",
      "       2.63201153e-05]), 'param_C': masked_array(data=[1, 1, 1, 10, 10, 10, 100, 100, 100],\n",
      "             mask=[False, False, False, False, False, False, False, False,\n",
      "                   False],\n",
      "       fill_value='?',\n",
      "            dtype=object), 'param_gamma': masked_array(data=[0.01, 0.1, 1.0, 0.01, 0.1, 1.0, 0.01, 0.1, 1.0],\n",
      "             mask=[False, False, False, False, False, False, False, False,\n",
      "                   False],\n",
      "       fill_value='?',\n",
      "            dtype=object), 'params': [{'C': 1, 'gamma': 0.01}, {'C': 1, 'gamma': 0.1}, {'C': 1, 'gamma': 1.0}, {'C': 10, 'gamma': 0.01}, {'C': 10, 'gamma': 0.1}, {'C': 10, 'gamma': 1.0}, {'C': 100, 'gamma': 0.01}, {'C': 100, 'gamma': 0.1}, {'C': 100, 'gamma': 1.0}], 'split0_test_score': array([0.76966292, 0.7752809 , 0.67977528, 0.7752809 , 0.73033708,\n",
      "       0.66292135, 0.76404494, 0.70786517, 0.66292135]), 'split1_test_score': array([0.76836158, 0.7740113 , 0.72881356, 0.74576271, 0.79096045,\n",
      "       0.75706215, 0.79661017, 0.75141243, 0.75706215]), 'split2_test_score': array([0.75706215, 0.77966102, 0.74576271, 0.76836158, 0.78531073,\n",
      "       0.74011299, 0.78531073, 0.71751412, 0.74011299]), 'split3_test_score': array([0.75706215, 0.79661017, 0.75141243, 0.79096045, 0.78531073,\n",
      "       0.71751412, 0.83050847, 0.72316384, 0.71751412]), 'split4_test_score': array([0.84180791, 0.8700565 , 0.82485876, 0.85875706, 0.82485876,\n",
      "       0.81920904, 0.89265537, 0.76271186, 0.81920904]), 'mean_test_score': array([0.77879134, 0.79912398, 0.74612455, 0.78782454, 0.78335555,\n",
      "       0.73936393, 0.81382594, 0.73253349, 0.73936393]), 'std_test_score': array([0.03196095, 0.03637496, 0.04675268, 0.03833172, 0.03032805,\n",
      "       0.05100963, 0.04489996, 0.02092389, 0.05100963]), 'rank_test_score': array([5, 2, 6, 3, 4, 7, 1, 9, 7], dtype=int32)}\n",
      "Best parameters set found:\n",
      "{'C': 100, 'gamma': 0.01}\n",
      "Score with best parameters:\n",
      "0.8138259379165873\n",
      "\n",
      "All scores on the grid:\n",
      "[0.77879134 0.79912398 0.74612455 0.78782454 0.78335555 0.73936393\n",
      " 0.81382594 0.73253349 0.73936393]\n"
     ]
    }
   ],
   "source": [
    "#import SVC\n",
    "from sklearn.svm import SVC\n",
    "#import for Cross-Validation\n",
    "from sklearn.model_selection import GridSearchCV\n",
    "\n",
    "# parameters for linear SVM\n",
    "parameters = {'C': [1, 10, 100]}\n",
    "\n",
    "#run linear SVM\n",
    "linear_SVM = SVC(kernel='linear')\n",
    "\n",
    "#find best model uusing 5-fold CV \n",
    "#and train it using all the training data\n",
    "best_of_kernels = []  ## in order to compare and select the best svm\n",
    "# ADD CODE\n",
    "###\n",
    "clf = GridSearchCV(linear_SVM, parameters, cv = 5)\n",
    "clf.fit(X_train_scaled, y = y_train)\n",
    "GridSearchCV(estimator=SVC(),\n",
    "             param_grid={'C': [1, 10, 100], 'kernel': ['linear']})\n",
    "###\n",
    "best_of_kernels.append(clf)\n",
    "print ('RESULTS FOR LINEAR KERNEL\\n')\n",
    "print(clf.cv_results_)  # is added\n",
    "\n",
    "print(\"Best parameters set found:\")\n",
    "print(clf.best_params_)# ADD CODE\n",
    "\n",
    "print(\"Score with best parameters:\")\n",
    "print(clf.best_score_)# ADD CODE\n",
    "\n",
    "print(\"\\nAll scores on the grid:\")\n",
    "# ADD CODE\n",
    "all_scores=clf.cv_results_['mean_test_score']\n",
    "print(all_scores)\n",
    "\n",
    "# parameters for poly with degree 2 kernel\n",
    "parameters = {'C': [1, 10, 100],'gamma':[0.01,0.1,1.]}\n",
    "\n",
    "#run SVM with poly of degree 2 kernel\n",
    "poly2_SVM = SVC(kernel='poly',degree=2)\n",
    "\n",
    "# ADD CODE: DO THE SAME AS ABOVE FOR POLYNOMIAL KERNEL WITH DEGREE=2\n",
    "###\n",
    "clf = GridSearchCV(poly2_SVM, parameters, cv = 5)\n",
    "clf.fit(X_train_scaled, y = y_train)\n",
    "GridSearchCV(estimator=SVC(),\n",
    "             param_grid={'C': [1, 10, 100], 'kernel': ['poly'], 'degree': ['2']})\n",
    "###\n",
    "best_of_kernels.append(clf)\n",
    "print ('\\nRESULTS FOR POLY DEGREE=2 KERNEL\\n')\n",
    "print(clf.cv_results_)  # is added\n",
    "print(\"Best parameters set found:\")\n",
    "print(clf.best_params_)# ADD CODE\n",
    "\n",
    "print(\"Score with best parameters:\")\n",
    "print(clf.best_score_)# ADD CODE\n",
    "\n",
    "print(\"\\nAll scores on the grid:\")\n",
    "# ADD CODE\n",
    "all_scores=clf.cv_results_['mean_test_score']\n",
    "print(all_scores)\n",
    "# parameters for rbf SVM\n",
    "parameters = {'C': [1, 10, 100],'gamma':[0.01,0.1,1.]}\n",
    "\n",
    "#run SVM with rbf kernel\n",
    "rbf_SVM = SVC(kernel='rbf')\n",
    "# ADD CODE: DO THE SAME AS ABOVE FOR RBF KERNEL\n",
    "###\n",
    "clf = GridSearchCV(rbf_SVM, parameters, cv = 5)\n",
    "clf.fit(X_train_scaled, y = y_train)\n",
    "GridSearchCV(estimator=SVC(),\n",
    "             param_grid={'C': [1, 10, 100], 'kernel': ['rbf'], 'gamma':[0.01,0.1,1.]})\n",
    "###\n",
    "best_of_kernels.append(clf)\n",
    "print ('\\nRESULTS FOR rbf KERNEL\\n')\n",
    "print(clf.cv_results_)  # is added\n",
    "print(\"Best parameters set found:\")\n",
    "print(clf.best_params_)# ADD CODE\n",
    "\n",
    "print(\"Score with best parameters:\")\n",
    "print(clf.best_score_)# ADD CODE\n",
    "\n",
    "print(\"\\nAll scores on the grid:\")\n",
    "# ADD CODE\n",
    "all_scores=clf.cv_results_['mean_test_score']\n",
    "print(all_scores)"
   ]
  },
  {
   "cell_type": "markdown",
   "metadata": {},
   "source": [
    "## TO DO 2\n",
    "For the \"best\" SVM kernel and choice of parameters from above, train the model on the entire training set and measure the training error. Also make predictions on the test set and measure the test error. Print the training and the test error."
   ]
  },
  {
   "cell_type": "code",
   "execution_count": 38,
   "metadata": {},
   "outputs": [],
   "source": [
    "scores_of_best_kernels = [x.best_score_ for x in best_of_kernels]\n",
    "index_of_best_svm = scores_of_best_kernels.index(max(scores_of_best_kernels))"
   ]
  },
  {
   "cell_type": "code",
   "execution_count": 39,
   "metadata": {},
   "outputs": [
    {
     "name": "stdout",
     "output_type": "stream",
     "text": [
      "Best SVM training error: 0.136569\n",
      "Best SVM test error: 0.130000\n"
     ]
    }
   ],
   "source": [
    "#get training and test error for the best SVM model from CV\n",
    "best_SVM = best_of_kernels[index_of_best_svm]# ADD CODE\n",
    "\n",
    "# fit the model on the entire training set\n",
    "# ADD CODE\n",
    "best_SVM.fit(X_train_scaled, y_train)\n",
    "prediction_svm = best_SVM.predict(X_test_scaled)\n",
    "#get the training and test error\n",
    "training_error = 1. - best_SVM.score(X_train_scaled,y_train)\n",
    "test_error = 1. - best_SVM.score(X_test_scaled,y_test)\n",
    "\n",
    "print (\"Best SVM training error: %f\" % training_error)\n",
    "print (\"Best SVM test error: %f\" % test_error)"
   ]
  },
  {
   "cell_type": "markdown",
   "metadata": {},
   "source": [
    "## Neural Networks "
   ]
  },
  {
   "cell_type": "code",
   "execution_count": 19,
   "metadata": {},
   "outputs": [],
   "source": [
    "ID = 2014431# COMPLETE\n",
    "np.random.seed(ID)"
   ]
  },
  {
   "cell_type": "code",
   "execution_count": 35,
   "metadata": {},
   "outputs": [
    {
     "name": "stderr",
     "output_type": "stream",
     "text": [
      "/opt/anaconda3/lib/python3.8/site-packages/sklearn/neural_network/_multilayer_perceptron.py:582: ConvergenceWarning: Stochastic Optimizer: Maximum iterations (300) reached and the optimization hasn't converged yet.\n",
      "  warnings.warn(\n",
      "/opt/anaconda3/lib/python3.8/site-packages/sklearn/neural_network/_multilayer_perceptron.py:582: ConvergenceWarning: Stochastic Optimizer: Maximum iterations (300) reached and the optimization hasn't converged yet.\n",
      "  warnings.warn(\n",
      "/opt/anaconda3/lib/python3.8/site-packages/sklearn/neural_network/_multilayer_perceptron.py:582: ConvergenceWarning: Stochastic Optimizer: Maximum iterations (300) reached and the optimization hasn't converged yet.\n",
      "  warnings.warn(\n",
      "/opt/anaconda3/lib/python3.8/site-packages/sklearn/neural_network/_multilayer_perceptron.py:582: ConvergenceWarning: Stochastic Optimizer: Maximum iterations (300) reached and the optimization hasn't converged yet.\n",
      "  warnings.warn(\n"
     ]
    },
    {
     "name": "stdout",
     "output_type": "stream",
     "text": [
      "RESULTS FOR NN\n",
      "\n",
      "{'mean_fit_time': array([0.19818602, 0.38441582, 0.45415421, 0.2426095 ]), 'std_fit_time': array([0.04025968, 0.04414265, 0.0553612 , 0.01362541]), 'mean_score_time': array([0.00041838, 0.00047469, 0.00044127, 0.00028362]), 'std_score_time': array([1.45207164e-04, 1.63621444e-04, 1.19543028e-04, 3.82838179e-06]), 'param_hidden_layer_sizes': masked_array(data=[(10,), (50,), (100,), (10, 10)],\n",
      "             mask=[False, False, False, False],\n",
      "       fill_value='?',\n",
      "            dtype=object), 'params': [{'hidden_layer_sizes': (10,)}, {'hidden_layer_sizes': (50,)}, {'hidden_layer_sizes': (100,)}, {'hidden_layer_sizes': (10, 10)}], 'split0_test_score': array([0.7247191 , 0.7247191 , 0.74157303, 0.73033708]), 'split1_test_score': array([0.78531073, 0.76836158, 0.7740113 , 0.76836158]), 'split2_test_score': array([0.74576271, 0.74576271, 0.76271186, 0.77966102]), 'split3_test_score': array([0.79096045, 0.81355932, 0.7740113 , 0.75141243]), 'split4_test_score': array([0.81355932, 0.79096045, 0.7740113 , 0.84745763]), 'mean_test_score': array([0.77206246, 0.76867263, 0.76526376, 0.77544595]), 'std_test_score': array([0.0322109 , 0.0315228 , 0.01262791, 0.03966373]), 'rank_test_score': array([2, 3, 4, 1], dtype=int32)}\n",
      "Best parameters set found:\n",
      "{'hidden_layer_sizes': (10, 10)}\n",
      "Score with best parameters:\n",
      "0.7754459468037834\n",
      "\n",
      "All scores on the grid:\n",
      "[0.77206246 0.76867263 0.76526376 0.77544595]\n"
     ]
    }
   ],
   "source": [
    "#MLPclassifier requires in input the parameter hidden_layer_sizes, that is a tuple specifying the number of \n",
    "#neurons in the hidden layers; for example: (10,) means that there is only 1 hidden layer with 10 neurons; \n",
    "#(10,50) means that there are 2 hidden layers, the first with 10 neurons, the second with 50 neurons\n",
    "import sklearn\n",
    "from sklearn.neural_network import MLPClassifier\n",
    "from sklearn.model_selection import GridSearchCV\n",
    "\n",
    "#these are examples of possible architectures you can test, but feel free to use different architectures! \n",
    "hl_parameters = {'hidden_layer_sizes': [(10,), (50,),(100,), (10,10,)]}\n",
    "\n",
    "mlp_cv = MLPClassifier(max_iter=300, alpha=1e-4, solver='sgd', tol=1e-4, learning_rate_init=.1,random_state=ID) #ADD YOUR CODE\n",
    "\n",
    "clf = GridSearchCV(estimator=mlp_cv,param_grid=hl_parameters,cv=5)\n",
    "clf.fit(X_train_scaled, y = y_train)\n",
    "print ('RESULTS FOR NN\\n')\n",
    "print(clf.cv_results_)  # is added\n",
    "\n",
    "print(\"Best parameters set found:\")\n",
    "print(clf.best_params_)#ADD YOUR CODE\n",
    "\n",
    "print(\"Score with best parameters:\")\n",
    "print(clf.best_score_)#ADD YOUR CODE\n",
    "\n",
    "print(\"\\nAll scores on the grid:\")\n",
    "all_scores=clf.cv_results_['mean_test_score']\n",
    "print(all_scores)#ADD YOUR CODE"
   ]
  },
  {
   "cell_type": "code",
   "execution_count": 36,
   "metadata": {},
   "outputs": [
    {
     "name": "stdout",
     "output_type": "stream",
     "text": [
      "Iteration 1, loss = 0.65559278\n",
      "Iteration 2, loss = 0.53204306\n",
      "Iteration 3, loss = 0.49089578\n",
      "Iteration 4, loss = 0.47301493\n",
      "Iteration 5, loss = 0.46468492\n",
      "Iteration 6, loss = 0.44770081\n",
      "Iteration 7, loss = 0.43966800\n",
      "Iteration 8, loss = 0.43032922\n",
      "Iteration 9, loss = 0.42331258\n",
      "Iteration 10, loss = 0.41846399\n",
      "Iteration 11, loss = 0.41359081\n",
      "Iteration 12, loss = 0.40716853\n",
      "Iteration 13, loss = 0.40510785\n",
      "Iteration 14, loss = 0.40099481\n",
      "Iteration 15, loss = 0.39753083\n",
      "Iteration 16, loss = 0.39210447\n",
      "Iteration 17, loss = 0.39122692\n",
      "Iteration 18, loss = 0.38648561\n",
      "Iteration 19, loss = 0.37895406\n",
      "Iteration 20, loss = 0.37461914\n",
      "Iteration 21, loss = 0.37115012\n",
      "Iteration 22, loss = 0.36755299\n",
      "Iteration 23, loss = 0.36395344\n",
      "Iteration 24, loss = 0.36368359\n",
      "Iteration 25, loss = 0.35912774\n",
      "Iteration 26, loss = 0.35512296\n",
      "Iteration 27, loss = 0.35675328\n",
      "Iteration 28, loss = 0.34859674\n",
      "Iteration 29, loss = 0.34685162\n",
      "Iteration 30, loss = 0.34921406\n",
      "Iteration 31, loss = 0.34764687\n",
      "Iteration 32, loss = 0.33943551\n",
      "Iteration 33, loss = 0.33845573\n",
      "Iteration 34, loss = 0.33926249\n",
      "Iteration 35, loss = 0.34861818\n",
      "Iteration 36, loss = 0.33540758\n",
      "Iteration 37, loss = 0.33474397\n",
      "Iteration 38, loss = 0.32757599\n",
      "Iteration 39, loss = 0.33043463\n",
      "Iteration 40, loss = 0.33000061\n",
      "Iteration 41, loss = 0.32448995\n",
      "Iteration 42, loss = 0.33050948\n",
      "Iteration 43, loss = 0.32653652\n",
      "Iteration 44, loss = 0.31948516\n",
      "Iteration 45, loss = 0.32760722\n",
      "Iteration 46, loss = 0.32245978\n",
      "Iteration 47, loss = 0.31842620\n",
      "Iteration 48, loss = 0.31868560\n",
      "Iteration 49, loss = 0.31500369\n",
      "Iteration 50, loss = 0.31394386\n",
      "Iteration 51, loss = 0.31105955\n",
      "Iteration 52, loss = 0.31232111\n",
      "Iteration 53, loss = 0.30813312\n",
      "Iteration 54, loss = 0.30701267\n",
      "Iteration 55, loss = 0.30599327\n",
      "Iteration 56, loss = 0.30546543\n",
      "Iteration 57, loss = 0.30158576\n",
      "Iteration 58, loss = 0.30811513\n",
      "Iteration 59, loss = 0.30637601\n",
      "Iteration 60, loss = 0.29920338\n",
      "Iteration 61, loss = 0.30752393\n",
      "Iteration 62, loss = 0.29838640\n",
      "Iteration 63, loss = 0.29551935\n",
      "Iteration 64, loss = 0.29697049\n",
      "Iteration 65, loss = 0.29464418\n",
      "Iteration 66, loss = 0.29117501\n",
      "Iteration 67, loss = 0.29783586\n",
      "Iteration 68, loss = 0.28938218\n",
      "Iteration 69, loss = 0.28862121\n",
      "Iteration 70, loss = 0.28580034\n",
      "Iteration 71, loss = 0.28546881\n",
      "Iteration 72, loss = 0.28845908\n",
      "Iteration 73, loss = 0.29305491\n",
      "Iteration 74, loss = 0.28218523\n",
      "Iteration 75, loss = 0.27796904\n",
      "Iteration 76, loss = 0.27695533\n",
      "Iteration 77, loss = 0.28373590\n",
      "Iteration 78, loss = 0.28303545\n",
      "Iteration 79, loss = 0.28185010\n",
      "Iteration 80, loss = 0.27561368\n",
      "Iteration 81, loss = 0.28782262\n",
      "Iteration 82, loss = 0.28610420\n",
      "Iteration 83, loss = 0.26998138\n",
      "Iteration 84, loss = 0.26717178\n",
      "Iteration 85, loss = 0.26729060\n",
      "Iteration 86, loss = 0.30020284\n",
      "Iteration 87, loss = 0.30507269\n",
      "Iteration 88, loss = 0.27861726\n",
      "Iteration 89, loss = 0.27141625\n",
      "Iteration 90, loss = 0.26494358\n",
      "Iteration 91, loss = 0.28191517\n",
      "Iteration 92, loss = 0.29112487\n",
      "Iteration 93, loss = 0.26221343\n",
      "Iteration 94, loss = 0.26331052\n",
      "Iteration 95, loss = 0.25964696\n",
      "Iteration 96, loss = 0.25311972\n",
      "Iteration 97, loss = 0.26492734\n",
      "Iteration 98, loss = 0.28671555\n",
      "Iteration 99, loss = 0.25232263\n",
      "Iteration 100, loss = 0.24785556\n",
      "Iteration 101, loss = 0.24959539\n",
      "Iteration 102, loss = 0.25749968\n",
      "Iteration 103, loss = 0.25083609\n",
      "Iteration 104, loss = 0.24525078\n",
      "Iteration 105, loss = 0.28923624\n",
      "Iteration 106, loss = 0.26149321\n",
      "Iteration 107, loss = 0.26409869\n",
      "Iteration 108, loss = 0.25172114\n",
      "Iteration 109, loss = 0.24637315\n",
      "Iteration 110, loss = 0.23726682\n",
      "Iteration 111, loss = 0.23821425\n",
      "Iteration 112, loss = 0.23443361\n",
      "Iteration 113, loss = 0.24643824\n",
      "Iteration 114, loss = 0.23848130\n",
      "Iteration 115, loss = 0.24269482\n",
      "Iteration 116, loss = 0.25510364\n",
      "Iteration 117, loss = 0.24340856\n",
      "Iteration 118, loss = 0.23557346\n",
      "Iteration 119, loss = 0.23646713\n",
      "Iteration 120, loss = 0.24394022\n",
      "Iteration 121, loss = 0.23716362\n",
      "Iteration 122, loss = 0.26453963\n",
      "Iteration 123, loss = 0.24320639\n",
      "Training loss did not improve more than tol=0.000100 for 10 consecutive epochs. Stopping.\n",
      "\n",
      "RESULTS FOR BEST NN\n",
      "\n",
      "Best NN training error: 0.093679\n",
      "Best NN test error: 0.150000\n"
     ]
    }
   ],
   "source": [
    "#get training and test error for the best NN model from CV\n",
    "\n",
    "mlp = MLPClassifier(hidden_layer_sizes = clf.best_params_['hidden_layer_sizes'], verbose=True, max_iter=300, alpha=1e-4, solver='sgd', tol=1e-4, learning_rate_init=.1, random_state=ID) #ADD YOUR CODE\n",
    "clf = mlp.fit(X_train_scaled, y_train)\n",
    "prediction_five_hundred = clf.predict(X_test_scaled)\n",
    "\n",
    "training_error = 1. - clf.score(X_train_scaled, y_train)#ADD YOUR CODE\n",
    "\n",
    "test_error = 1. - clf.score(X_test_scaled, y_test)#ADD YOUR CODE\n",
    "\n",
    "print ('\\nRESULTS FOR BEST NN\\n')\n",
    "\n",
    "print (\"Best NN training error: %f\" % training_error)\n",
    "print (\"Best NN test error: %f\" % test_error)"
   ]
  },
  {
   "cell_type": "code",
   "execution_count": null,
   "metadata": {},
   "outputs": [],
   "source": []
  }
 ],
 "metadata": {
  "kernelspec": {
   "display_name": "Python 3",
   "language": "python",
   "name": "python3"
  },
  "language_info": {
   "codemirror_mode": {
    "name": "ipython",
    "version": 3
   },
   "file_extension": ".py",
   "mimetype": "text/x-python",
   "name": "python",
   "nbconvert_exporter": "python",
   "pygments_lexer": "ipython3",
   "version": "3.8.5"
  }
 },
 "nbformat": 4,
 "nbformat_minor": 4
}
